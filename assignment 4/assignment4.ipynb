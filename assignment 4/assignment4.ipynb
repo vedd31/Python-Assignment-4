{
 "cells": [
  {
   "cell_type": "code",
   "execution_count": 1,
   "metadata": {},
   "outputs": [],
   "source": [
    "f=open('feedback1.txt','x')"
   ]
  },
  {
   "cell_type": "code",
   "execution_count": 2,
   "metadata": {},
   "outputs": [],
   "source": [
    "f=open('feedback2.txt','x')"
   ]
  },
  {
   "cell_type": "code",
   "execution_count": 3,
   "metadata": {},
   "outputs": [],
   "source": [
    "f=open('feedback3.txt','x')"
   ]
  },
  {
   "cell_type": "code",
   "execution_count": 1,
   "metadata": {},
   "outputs": [
    {
     "name": "stdout",
     "output_type": "stream",
     "text": [
      "Summary file 'Feedback Summary.txt' created successfully.\n"
     ]
    }
   ],
   "source": [
    "def file_reading(Datafile):\n",
    "    FeedData = []\n",
    "    \n",
    "    for NamingFile in Datafile:\n",
    "        \n",
    "        try:\n",
    "            with open(NamingFile, 'r') as file:\n",
    "                FeedData.extend(file.readlines())\n",
    "        \n",
    "        except FileNotFoundError:\n",
    "            print(f\"Error: {NamingFile} not found.\")\n",
    "    \n",
    "    return FeedData\n",
    "\n",
    "\n",
    "def parsing_files(FeedbackData):\n",
    "    ParseFeed = []\n",
    "    TotalRate = 0\n",
    "    \n",
    "    for Feedbacks in FeedbackData:\n",
    "        \n",
    "        try:\n",
    "            name, rest = Feedbacks.split(': ', 1)\n",
    "            rating, comment = rest.split(' - ', 1)\n",
    "            rating = float(rating)\n",
    "            ParseFeed.append((name, rating, comment.strip()))\n",
    "            TotalRate += rating\n",
    "        \n",
    "        except ValueError:\n",
    "            print(f\"Error: Unable to parse feedback: {Feedbacks}\")\n",
    "    \n",
    "    return ParseFeed, TotalRate\n",
    "\n",
    "\n",
    "def average_calculations(TotalRating, count):\n",
    "    \n",
    "    if count == 0:\n",
    "        return 0\n",
    "    \n",
    "    return TotalRating / count\n",
    "\n",
    "def summary_writing(FileSummary, ParseFeed, RateAvg):\n",
    "    \n",
    "    with open(FileSummary, 'w') as file:\n",
    "        file.write(f\"Total Feedback Entries: {len(ParseFeed)}\\n\")\n",
    "        file.write(f\"Average Rating: {RateAvg:.2f}\\n\\n\")\n",
    "        file.write(\"Feedbacks:\\n\")\n",
    "        \n",
    "        for name, rating, comment in ParseFeed:\n",
    "            file.write(f\"{name}: {rating} - {comment}\\n\")\n",
    "\n",
    "def Main():\n",
    "  FeedbackList = ['feedback1.txt', 'feedback2.txt', 'feedback3.txt']\n",
    "  DataFeedbck = file_reading(FeedbackList)\n",
    "  \n",
    "  if not DataFeedbck:\n",
    "    print(\"No feedback data found.\")\n",
    "    return\n",
    "\n",
    "  ParseFeed, TotalRate = parsing_files(DataFeedbck)\n",
    "  RateAvg = average_calculations(TotalRate, len(ParseFeed))\n",
    "  \n",
    "  summary_writing('Feedback Summary.txt', ParseFeed, RateAvg)\n",
    "  print(\"Summary file 'Feedback Summary.txt' created successfully.\")\n",
    "\n",
    "Main()"
   ]
  }
 ],
 "metadata": {
  "kernelspec": {
   "display_name": "Python 3",
   "language": "python",
   "name": "python3"
  },
  "language_info": {
   "codemirror_mode": {
    "name": "ipython",
    "version": 3
   },
   "file_extension": ".py",
   "mimetype": "text/x-python",
   "name": "python",
   "nbconvert_exporter": "python",
   "pygments_lexer": "ipython3",
   "version": "3.11.4"
  }
 },
 "nbformat": 4,
 "nbformat_minor": 2
}
